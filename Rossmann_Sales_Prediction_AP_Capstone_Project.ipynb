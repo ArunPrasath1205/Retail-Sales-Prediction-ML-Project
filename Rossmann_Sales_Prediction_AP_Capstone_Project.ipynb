{
  "nbformat": 4,
  "nbformat_minor": 0,
  "metadata": {
    "kernelspec": {
      "display_name": "Python 3",
      "language": "python",
      "name": "python3"
    },
    "language_info": {
      "codemirror_mode": {
        "name": "ipython",
        "version": 3
      },
      "file_extension": ".py",
      "mimetype": "text/x-python",
      "name": "python",
      "nbconvert_exporter": "python",
      "pygments_lexer": "ipython3",
      "version": "3.6.6"
    },
    "colab": {
      "provenance": [],
      "collapsed_sections": [],
      "include_colab_link": true
    }
  },
  "cells": [
    {
      "cell_type": "markdown",
      "metadata": {
        "id": "view-in-github",
        "colab_type": "text"
      },
      "source": [
        "<a href=\"https://colab.research.google.com/github/ArunPrasath1205/Retail-Sales-Prediction-ML-Project/blob/main/Rossmann_Sales_Prediction_AP_Capstone_Project.ipynb\" target=\"_parent\"><img src=\"https://colab.research.google.com/assets/colab-badge.svg\" alt=\"Open In Colab\"/></a>"
      ]
    },
    {
      "cell_type": "markdown",
      "metadata": {
        "id": "tOGC-qoyhJeX"
      },
      "source": [
        "# <b><u> Project Title : Sales Prediction : Predicting sales of a major store chain Rossmann</u></b>"
      ]
    },
    {
      "cell_type": "markdown",
      "metadata": {
        "id": "Y06xIdG26kRF"
      },
      "source": [
        "## <b> Problem Description </b>\n",
        "\n",
        "### Rossmann operates over 3,000 drug stores in 7 European countries. Currently, Rossmann store managers are tasked with predicting their daily sales for up to six weeks in advance. Store sales are influenced by many factors, including promotions, competition, school and state holidays, seasonality, and locality. With thousands of individual managers predicting sales based on their unique circumstances, the accuracy of results can be quite varied.\n",
        "\n",
        "### You are provided with historical sales data for 1,115 Rossmann stores. The task is to forecast the \"Sales\" column for the test set. Note that some stores in the dataset were temporarily closed for refurbishment."
      ]
    },
    {
      "cell_type": "markdown",
      "metadata": {
        "id": "WWeU1f9bwqQq"
      },
      "source": [
        "## <b> Data Description </b>\n",
        "\n",
        "### <b>Rossmann Stores Data.csv </b> - historical data including Sales\n",
        "### <b>store.csv </b> - supplemental information about the stores\n",
        "\n",
        "\n",
        "### <b><u>Data fields</u></b>\n",
        "### Most of the fields are self-explanatory. The following are descriptions for those that aren't.\n",
        "\n",
        "* #### Id - an Id that represents a (Store, Date) duple within the test set\n",
        "* #### Store - a unique Id for each store\n",
        "* #### Sales - the turnover for any given day (this is what you are predicting)\n",
        "* #### Customers - the number of customers on a given day\n",
        "* #### Open - an indicator for whether the store was open: 0 = closed, 1 = open\n",
        "* #### StateHoliday - indicates a state holiday. Normally all stores, with few exceptions, are closed on state holidays. Note that all schools are closed on public holidays and weekends. a = public holiday, b = Easter holiday, c = Christmas, 0 = None\n",
        "* #### SchoolHoliday - indicates if the (Store, Date) was affected by the closure of public schools\n",
        "* #### StoreType - differentiates between 4 different store models: a, b, c, d\n",
        "* #### Assortment - describes an assortment level: a = basic, b = extra, c = extended\n",
        "* #### CompetitionDistance - distance in meters to the nearest competitor store\n",
        "* #### CompetitionOpenSince[Month/Year] - gives the approximate year and month of the time the nearest competitor was opened\n",
        "* #### Promo - indicates whether a store is running a promo on that day\n",
        "* #### Promo2 - Promo2 is a continuing and consecutive promotion for some stores: 0 = store is not participating, 1 = store is participating\n",
        "* #### Promo2Since[Year/Week] - describes the year and calendar week when the store started participating in Promo2\n",
        "* #### PromoInterval - describes the consecutive intervals Promo2 is started, naming the months the promotion is started anew. E.g. \"Feb,May,Aug,Nov\" means each round starts in February, May, August, November of any given year for that store"
      ]
    },
    {
      "cell_type": "code",
      "metadata": {
        "id": "dByMsuzT8Tnw",
        "colab": {
          "base_uri": "https://localhost:8080/"
        },
        "outputId": "f1fa85ab-c212-46a3-c1c6-82dfd617088a"
      },
      "source": [
        "from google.colab import drive\n",
        "drive.mount(\"/content/drive\")"
      ],
      "execution_count": 1,
      "outputs": [
        {
          "output_type": "stream",
          "name": "stdout",
          "text": [
            "Mounted at /content/drive\n"
          ]
        }
      ]
    },
    {
      "cell_type": "code",
      "source": [
        "import pandas as pd\n",
        "import numpy as np\n",
        "import matplotlib.pyplot as plt\n",
        "%matplotlib inline\n",
        "import seaborn as sns\n",
        "import warnings\n",
        "warnings.filterwarnings(\"ignore\")"
      ],
      "metadata": {
        "id": "_ACmBKNfksgH"
      },
      "execution_count": 3,
      "outputs": []
    },
    {
      "cell_type": "code",
      "source": [
        "sales_df = \"/content/drive/MyDrive/Almabetter/Module 04 ML/Retail sales prediction ML project/Rossmann Stores Data.csv\"\n",
        "store_df = \"/content/drive/MyDrive/Almabetter/Module 04 ML/Retail sales prediction ML project/store (1).csv\""
      ],
      "metadata": {
        "id": "2kAxKNxckHmv"
      },
      "execution_count": 4,
      "outputs": []
    },
    {
      "cell_type": "code",
      "source": [
        "sales_df = pd.read_csv(sales_df)\n",
        "store_df = pd.read_csv(store_df)\n"
      ],
      "metadata": {
        "id": "_sdXkLNvlA8S"
      },
      "execution_count": 5,
      "outputs": []
    },
    {
      "cell_type": "code",
      "source": [
        "sales_df.head()"
      ],
      "metadata": {
        "colab": {
          "base_uri": "https://localhost:8080/",
          "height": 206
        },
        "id": "Huas-Gq5lM0B",
        "outputId": "37a3c4a5-b2f2-4211-bd72-231fa01dffc2"
      },
      "execution_count": 6,
      "outputs": [
        {
          "output_type": "execute_result",
          "data": {
            "text/plain": [
              "   Store  DayOfWeek        Date  Sales  Customers  Open  Promo StateHoliday  \\\n",
              "0      1          5  2015-07-31   5263        555     1      1            0   \n",
              "1      2          5  2015-07-31   6064        625     1      1            0   \n",
              "2      3          5  2015-07-31   8314        821     1      1            0   \n",
              "3      4          5  2015-07-31  13995       1498     1      1            0   \n",
              "4      5          5  2015-07-31   4822        559     1      1            0   \n",
              "\n",
              "   SchoolHoliday  \n",
              "0              1  \n",
              "1              1  \n",
              "2              1  \n",
              "3              1  \n",
              "4              1  "
            ],
            "text/html": [
              "\n",
              "  <div id=\"df-9deea45e-7622-4a9b-993a-cebf919c9faf\">\n",
              "    <div class=\"colab-df-container\">\n",
              "      <div>\n",
              "<style scoped>\n",
              "    .dataframe tbody tr th:only-of-type {\n",
              "        vertical-align: middle;\n",
              "    }\n",
              "\n",
              "    .dataframe tbody tr th {\n",
              "        vertical-align: top;\n",
              "    }\n",
              "\n",
              "    .dataframe thead th {\n",
              "        text-align: right;\n",
              "    }\n",
              "</style>\n",
              "<table border=\"1\" class=\"dataframe\">\n",
              "  <thead>\n",
              "    <tr style=\"text-align: right;\">\n",
              "      <th></th>\n",
              "      <th>Store</th>\n",
              "      <th>DayOfWeek</th>\n",
              "      <th>Date</th>\n",
              "      <th>Sales</th>\n",
              "      <th>Customers</th>\n",
              "      <th>Open</th>\n",
              "      <th>Promo</th>\n",
              "      <th>StateHoliday</th>\n",
              "      <th>SchoolHoliday</th>\n",
              "    </tr>\n",
              "  </thead>\n",
              "  <tbody>\n",
              "    <tr>\n",
              "      <th>0</th>\n",
              "      <td>1</td>\n",
              "      <td>5</td>\n",
              "      <td>2015-07-31</td>\n",
              "      <td>5263</td>\n",
              "      <td>555</td>\n",
              "      <td>1</td>\n",
              "      <td>1</td>\n",
              "      <td>0</td>\n",
              "      <td>1</td>\n",
              "    </tr>\n",
              "    <tr>\n",
              "      <th>1</th>\n",
              "      <td>2</td>\n",
              "      <td>5</td>\n",
              "      <td>2015-07-31</td>\n",
              "      <td>6064</td>\n",
              "      <td>625</td>\n",
              "      <td>1</td>\n",
              "      <td>1</td>\n",
              "      <td>0</td>\n",
              "      <td>1</td>\n",
              "    </tr>\n",
              "    <tr>\n",
              "      <th>2</th>\n",
              "      <td>3</td>\n",
              "      <td>5</td>\n",
              "      <td>2015-07-31</td>\n",
              "      <td>8314</td>\n",
              "      <td>821</td>\n",
              "      <td>1</td>\n",
              "      <td>1</td>\n",
              "      <td>0</td>\n",
              "      <td>1</td>\n",
              "    </tr>\n",
              "    <tr>\n",
              "      <th>3</th>\n",
              "      <td>4</td>\n",
              "      <td>5</td>\n",
              "      <td>2015-07-31</td>\n",
              "      <td>13995</td>\n",
              "      <td>1498</td>\n",
              "      <td>1</td>\n",
              "      <td>1</td>\n",
              "      <td>0</td>\n",
              "      <td>1</td>\n",
              "    </tr>\n",
              "    <tr>\n",
              "      <th>4</th>\n",
              "      <td>5</td>\n",
              "      <td>5</td>\n",
              "      <td>2015-07-31</td>\n",
              "      <td>4822</td>\n",
              "      <td>559</td>\n",
              "      <td>1</td>\n",
              "      <td>1</td>\n",
              "      <td>0</td>\n",
              "      <td>1</td>\n",
              "    </tr>\n",
              "  </tbody>\n",
              "</table>\n",
              "</div>\n",
              "      <button class=\"colab-df-convert\" onclick=\"convertToInteractive('df-9deea45e-7622-4a9b-993a-cebf919c9faf')\"\n",
              "              title=\"Convert this dataframe to an interactive table.\"\n",
              "              style=\"display:none;\">\n",
              "        \n",
              "  <svg xmlns=\"http://www.w3.org/2000/svg\" height=\"24px\"viewBox=\"0 0 24 24\"\n",
              "       width=\"24px\">\n",
              "    <path d=\"M0 0h24v24H0V0z\" fill=\"none\"/>\n",
              "    <path d=\"M18.56 5.44l.94 2.06.94-2.06 2.06-.94-2.06-.94-.94-2.06-.94 2.06-2.06.94zm-11 1L8.5 8.5l.94-2.06 2.06-.94-2.06-.94L8.5 2.5l-.94 2.06-2.06.94zm10 10l.94 2.06.94-2.06 2.06-.94-2.06-.94-.94-2.06-.94 2.06-2.06.94z\"/><path d=\"M17.41 7.96l-1.37-1.37c-.4-.4-.92-.59-1.43-.59-.52 0-1.04.2-1.43.59L10.3 9.45l-7.72 7.72c-.78.78-.78 2.05 0 2.83L4 21.41c.39.39.9.59 1.41.59.51 0 1.02-.2 1.41-.59l7.78-7.78 2.81-2.81c.8-.78.8-2.07 0-2.86zM5.41 20L4 18.59l7.72-7.72 1.47 1.35L5.41 20z\"/>\n",
              "  </svg>\n",
              "      </button>\n",
              "      \n",
              "  <style>\n",
              "    .colab-df-container {\n",
              "      display:flex;\n",
              "      flex-wrap:wrap;\n",
              "      gap: 12px;\n",
              "    }\n",
              "\n",
              "    .colab-df-convert {\n",
              "      background-color: #E8F0FE;\n",
              "      border: none;\n",
              "      border-radius: 50%;\n",
              "      cursor: pointer;\n",
              "      display: none;\n",
              "      fill: #1967D2;\n",
              "      height: 32px;\n",
              "      padding: 0 0 0 0;\n",
              "      width: 32px;\n",
              "    }\n",
              "\n",
              "    .colab-df-convert:hover {\n",
              "      background-color: #E2EBFA;\n",
              "      box-shadow: 0px 1px 2px rgba(60, 64, 67, 0.3), 0px 1px 3px 1px rgba(60, 64, 67, 0.15);\n",
              "      fill: #174EA6;\n",
              "    }\n",
              "\n",
              "    [theme=dark] .colab-df-convert {\n",
              "      background-color: #3B4455;\n",
              "      fill: #D2E3FC;\n",
              "    }\n",
              "\n",
              "    [theme=dark] .colab-df-convert:hover {\n",
              "      background-color: #434B5C;\n",
              "      box-shadow: 0px 1px 3px 1px rgba(0, 0, 0, 0.15);\n",
              "      filter: drop-shadow(0px 1px 2px rgba(0, 0, 0, 0.3));\n",
              "      fill: #FFFFFF;\n",
              "    }\n",
              "  </style>\n",
              "\n",
              "      <script>\n",
              "        const buttonEl =\n",
              "          document.querySelector('#df-9deea45e-7622-4a9b-993a-cebf919c9faf button.colab-df-convert');\n",
              "        buttonEl.style.display =\n",
              "          google.colab.kernel.accessAllowed ? 'block' : 'none';\n",
              "\n",
              "        async function convertToInteractive(key) {\n",
              "          const element = document.querySelector('#df-9deea45e-7622-4a9b-993a-cebf919c9faf');\n",
              "          const dataTable =\n",
              "            await google.colab.kernel.invokeFunction('convertToInteractive',\n",
              "                                                     [key], {});\n",
              "          if (!dataTable) return;\n",
              "\n",
              "          const docLinkHtml = 'Like what you see? Visit the ' +\n",
              "            '<a target=\"_blank\" href=https://colab.research.google.com/notebooks/data_table.ipynb>data table notebook</a>'\n",
              "            + ' to learn more about interactive tables.';\n",
              "          element.innerHTML = '';\n",
              "          dataTable['output_type'] = 'display_data';\n",
              "          await google.colab.output.renderOutput(dataTable, element);\n",
              "          const docLink = document.createElement('div');\n",
              "          docLink.innerHTML = docLinkHtml;\n",
              "          element.appendChild(docLink);\n",
              "        }\n",
              "      </script>\n",
              "    </div>\n",
              "  </div>\n",
              "  "
            ]
          },
          "metadata": {},
          "execution_count": 6
        }
      ]
    },
    {
      "cell_type": "markdown",
      "source": [
        "* It should be note that, \"school holiday\" columns gives detail about the stores affected by the closure of the Public schools.\n",
        "* Values count shows that, Most of the stores are not affected by the factor still there are good numbers."
      ],
      "metadata": {
        "id": "TNB09Ot6n0_w"
      }
    },
    {
      "cell_type": "code",
      "source": [
        "sales_df[\"SchoolHoliday\"].value_counts()"
      ],
      "metadata": {
        "colab": {
          "base_uri": "https://localhost:8080/"
        },
        "id": "73M_r23tnXhz",
        "outputId": "f450b9b2-15fb-4870-eb42-d45c40f941d3"
      },
      "execution_count": 7,
      "outputs": [
        {
          "output_type": "execute_result",
          "data": {
            "text/plain": [
              "0    835488\n",
              "1    181721\n",
              "Name: SchoolHoliday, dtype: int64"
            ]
          },
          "metadata": {},
          "execution_count": 7
        }
      ]
    },
    {
      "cell_type": "code",
      "source": [
        "sales_df[\"Store\"].value_counts()"
      ],
      "metadata": {
        "colab": {
          "base_uri": "https://localhost:8080/"
        },
        "id": "2sjjo2Rsnsm0",
        "outputId": "f6b42df7-4be0-4ba5-d499-0dd6a55352c5"
      },
      "execution_count": 8,
      "outputs": [
        {
          "output_type": "execute_result",
          "data": {
            "text/plain": [
              "1      942\n",
              "726    942\n",
              "708    942\n",
              "709    942\n",
              "713    942\n",
              "      ... \n",
              "159    758\n",
              "637    758\n",
              "636    758\n",
              "633    758\n",
              "155    758\n",
              "Name: Store, Length: 1115, dtype: int64"
            ]
          },
          "metadata": {},
          "execution_count": 8
        }
      ]
    },
    {
      "cell_type": "markdown",
      "source": [
        "* "
      ],
      "metadata": {
        "id": "T7nRQbp0nUex"
      }
    },
    {
      "cell_type": "code",
      "source": [
        "store_df.head()"
      ],
      "metadata": {
        "colab": {
          "base_uri": "https://localhost:8080/",
          "height": 206
        },
        "id": "KhsWbr4OmGRV",
        "outputId": "2c4190c5-a35e-446e-87a7-5c2276d7100e"
      },
      "execution_count": 9,
      "outputs": [
        {
          "output_type": "execute_result",
          "data": {
            "text/plain": [
              "   Store StoreType Assortment  CompetitionDistance  CompetitionOpenSinceMonth  \\\n",
              "0      1         c          a               1270.0                        9.0   \n",
              "1      2         a          a                570.0                       11.0   \n",
              "2      3         a          a              14130.0                       12.0   \n",
              "3      4         c          c                620.0                        9.0   \n",
              "4      5         a          a              29910.0                        4.0   \n",
              "\n",
              "   CompetitionOpenSinceYear  Promo2  Promo2SinceWeek  Promo2SinceYear  \\\n",
              "0                    2008.0       0              NaN              NaN   \n",
              "1                    2007.0       1             13.0           2010.0   \n",
              "2                    2006.0       1             14.0           2011.0   \n",
              "3                    2009.0       0              NaN              NaN   \n",
              "4                    2015.0       0              NaN              NaN   \n",
              "\n",
              "     PromoInterval  \n",
              "0              NaN  \n",
              "1  Jan,Apr,Jul,Oct  \n",
              "2  Jan,Apr,Jul,Oct  \n",
              "3              NaN  \n",
              "4              NaN  "
            ],
            "text/html": [
              "\n",
              "  <div id=\"df-7c4486b9-d70b-413b-a59b-c3e85420d310\">\n",
              "    <div class=\"colab-df-container\">\n",
              "      <div>\n",
              "<style scoped>\n",
              "    .dataframe tbody tr th:only-of-type {\n",
              "        vertical-align: middle;\n",
              "    }\n",
              "\n",
              "    .dataframe tbody tr th {\n",
              "        vertical-align: top;\n",
              "    }\n",
              "\n",
              "    .dataframe thead th {\n",
              "        text-align: right;\n",
              "    }\n",
              "</style>\n",
              "<table border=\"1\" class=\"dataframe\">\n",
              "  <thead>\n",
              "    <tr style=\"text-align: right;\">\n",
              "      <th></th>\n",
              "      <th>Store</th>\n",
              "      <th>StoreType</th>\n",
              "      <th>Assortment</th>\n",
              "      <th>CompetitionDistance</th>\n",
              "      <th>CompetitionOpenSinceMonth</th>\n",
              "      <th>CompetitionOpenSinceYear</th>\n",
              "      <th>Promo2</th>\n",
              "      <th>Promo2SinceWeek</th>\n",
              "      <th>Promo2SinceYear</th>\n",
              "      <th>PromoInterval</th>\n",
              "    </tr>\n",
              "  </thead>\n",
              "  <tbody>\n",
              "    <tr>\n",
              "      <th>0</th>\n",
              "      <td>1</td>\n",
              "      <td>c</td>\n",
              "      <td>a</td>\n",
              "      <td>1270.0</td>\n",
              "      <td>9.0</td>\n",
              "      <td>2008.0</td>\n",
              "      <td>0</td>\n",
              "      <td>NaN</td>\n",
              "      <td>NaN</td>\n",
              "      <td>NaN</td>\n",
              "    </tr>\n",
              "    <tr>\n",
              "      <th>1</th>\n",
              "      <td>2</td>\n",
              "      <td>a</td>\n",
              "      <td>a</td>\n",
              "      <td>570.0</td>\n",
              "      <td>11.0</td>\n",
              "      <td>2007.0</td>\n",
              "      <td>1</td>\n",
              "      <td>13.0</td>\n",
              "      <td>2010.0</td>\n",
              "      <td>Jan,Apr,Jul,Oct</td>\n",
              "    </tr>\n",
              "    <tr>\n",
              "      <th>2</th>\n",
              "      <td>3</td>\n",
              "      <td>a</td>\n",
              "      <td>a</td>\n",
              "      <td>14130.0</td>\n",
              "      <td>12.0</td>\n",
              "      <td>2006.0</td>\n",
              "      <td>1</td>\n",
              "      <td>14.0</td>\n",
              "      <td>2011.0</td>\n",
              "      <td>Jan,Apr,Jul,Oct</td>\n",
              "    </tr>\n",
              "    <tr>\n",
              "      <th>3</th>\n",
              "      <td>4</td>\n",
              "      <td>c</td>\n",
              "      <td>c</td>\n",
              "      <td>620.0</td>\n",
              "      <td>9.0</td>\n",
              "      <td>2009.0</td>\n",
              "      <td>0</td>\n",
              "      <td>NaN</td>\n",
              "      <td>NaN</td>\n",
              "      <td>NaN</td>\n",
              "    </tr>\n",
              "    <tr>\n",
              "      <th>4</th>\n",
              "      <td>5</td>\n",
              "      <td>a</td>\n",
              "      <td>a</td>\n",
              "      <td>29910.0</td>\n",
              "      <td>4.0</td>\n",
              "      <td>2015.0</td>\n",
              "      <td>0</td>\n",
              "      <td>NaN</td>\n",
              "      <td>NaN</td>\n",
              "      <td>NaN</td>\n",
              "    </tr>\n",
              "  </tbody>\n",
              "</table>\n",
              "</div>\n",
              "      <button class=\"colab-df-convert\" onclick=\"convertToInteractive('df-7c4486b9-d70b-413b-a59b-c3e85420d310')\"\n",
              "              title=\"Convert this dataframe to an interactive table.\"\n",
              "              style=\"display:none;\">\n",
              "        \n",
              "  <svg xmlns=\"http://www.w3.org/2000/svg\" height=\"24px\"viewBox=\"0 0 24 24\"\n",
              "       width=\"24px\">\n",
              "    <path d=\"M0 0h24v24H0V0z\" fill=\"none\"/>\n",
              "    <path d=\"M18.56 5.44l.94 2.06.94-2.06 2.06-.94-2.06-.94-.94-2.06-.94 2.06-2.06.94zm-11 1L8.5 8.5l.94-2.06 2.06-.94-2.06-.94L8.5 2.5l-.94 2.06-2.06.94zm10 10l.94 2.06.94-2.06 2.06-.94-2.06-.94-.94-2.06-.94 2.06-2.06.94z\"/><path d=\"M17.41 7.96l-1.37-1.37c-.4-.4-.92-.59-1.43-.59-.52 0-1.04.2-1.43.59L10.3 9.45l-7.72 7.72c-.78.78-.78 2.05 0 2.83L4 21.41c.39.39.9.59 1.41.59.51 0 1.02-.2 1.41-.59l7.78-7.78 2.81-2.81c.8-.78.8-2.07 0-2.86zM5.41 20L4 18.59l7.72-7.72 1.47 1.35L5.41 20z\"/>\n",
              "  </svg>\n",
              "      </button>\n",
              "      \n",
              "  <style>\n",
              "    .colab-df-container {\n",
              "      display:flex;\n",
              "      flex-wrap:wrap;\n",
              "      gap: 12px;\n",
              "    }\n",
              "\n",
              "    .colab-df-convert {\n",
              "      background-color: #E8F0FE;\n",
              "      border: none;\n",
              "      border-radius: 50%;\n",
              "      cursor: pointer;\n",
              "      display: none;\n",
              "      fill: #1967D2;\n",
              "      height: 32px;\n",
              "      padding: 0 0 0 0;\n",
              "      width: 32px;\n",
              "    }\n",
              "\n",
              "    .colab-df-convert:hover {\n",
              "      background-color: #E2EBFA;\n",
              "      box-shadow: 0px 1px 2px rgba(60, 64, 67, 0.3), 0px 1px 3px 1px rgba(60, 64, 67, 0.15);\n",
              "      fill: #174EA6;\n",
              "    }\n",
              "\n",
              "    [theme=dark] .colab-df-convert {\n",
              "      background-color: #3B4455;\n",
              "      fill: #D2E3FC;\n",
              "    }\n",
              "\n",
              "    [theme=dark] .colab-df-convert:hover {\n",
              "      background-color: #434B5C;\n",
              "      box-shadow: 0px 1px 3px 1px rgba(0, 0, 0, 0.15);\n",
              "      filter: drop-shadow(0px 1px 2px rgba(0, 0, 0, 0.3));\n",
              "      fill: #FFFFFF;\n",
              "    }\n",
              "  </style>\n",
              "\n",
              "      <script>\n",
              "        const buttonEl =\n",
              "          document.querySelector('#df-7c4486b9-d70b-413b-a59b-c3e85420d310 button.colab-df-convert');\n",
              "        buttonEl.style.display =\n",
              "          google.colab.kernel.accessAllowed ? 'block' : 'none';\n",
              "\n",
              "        async function convertToInteractive(key) {\n",
              "          const element = document.querySelector('#df-7c4486b9-d70b-413b-a59b-c3e85420d310');\n",
              "          const dataTable =\n",
              "            await google.colab.kernel.invokeFunction('convertToInteractive',\n",
              "                                                     [key], {});\n",
              "          if (!dataTable) return;\n",
              "\n",
              "          const docLinkHtml = 'Like what you see? Visit the ' +\n",
              "            '<a target=\"_blank\" href=https://colab.research.google.com/notebooks/data_table.ipynb>data table notebook</a>'\n",
              "            + ' to learn more about interactive tables.';\n",
              "          element.innerHTML = '';\n",
              "          dataTable['output_type'] = 'display_data';\n",
              "          await google.colab.output.renderOutput(dataTable, element);\n",
              "          const docLink = document.createElement('div');\n",
              "          docLink.innerHTML = docLinkHtml;\n",
              "          element.appendChild(docLink);\n",
              "        }\n",
              "      </script>\n",
              "    </div>\n",
              "  </div>\n",
              "  "
            ]
          },
          "metadata": {},
          "execution_count": 9
        }
      ]
    },
    {
      "cell_type": "code",
      "source": [
        "sales_df.info()"
      ],
      "metadata": {
        "colab": {
          "base_uri": "https://localhost:8080/"
        },
        "id": "zVzBgGx0mLG8",
        "outputId": "7a01b08c-73fd-4fa9-f060-e11aa1de8a11"
      },
      "execution_count": 10,
      "outputs": [
        {
          "output_type": "stream",
          "name": "stdout",
          "text": [
            "<class 'pandas.core.frame.DataFrame'>\n",
            "RangeIndex: 1017209 entries, 0 to 1017208\n",
            "Data columns (total 9 columns):\n",
            " #   Column         Non-Null Count    Dtype \n",
            "---  ------         --------------    ----- \n",
            " 0   Store          1017209 non-null  int64 \n",
            " 1   DayOfWeek      1017209 non-null  int64 \n",
            " 2   Date           1017209 non-null  object\n",
            " 3   Sales          1017209 non-null  int64 \n",
            " 4   Customers      1017209 non-null  int64 \n",
            " 5   Open           1017209 non-null  int64 \n",
            " 6   Promo          1017209 non-null  int64 \n",
            " 7   StateHoliday   1017209 non-null  object\n",
            " 8   SchoolHoliday  1017209 non-null  int64 \n",
            "dtypes: int64(7), object(2)\n",
            "memory usage: 69.8+ MB\n"
          ]
        }
      ]
    },
    {
      "cell_type": "markdown",
      "source": [
        "* Checking for the null values in the dataset information.\n",
        "* In the sales dataset, we are fortunate enough to get the dataset with 0 null values in the features\n",
        "* Total Rows = \"1017209\" and features ( columns ) = \"9\""
      ],
      "metadata": {
        "id": "mOLxH4wqogTI"
      }
    },
    {
      "cell_type": "code",
      "source": [
        "store_df.info()"
      ],
      "metadata": {
        "colab": {
          "base_uri": "https://localhost:8080/"
        },
        "id": "G7HMdztEnAE-",
        "outputId": "0eca1a73-ee9c-44ac-f0bb-58191cdd3cbe"
      },
      "execution_count": 11,
      "outputs": [
        {
          "output_type": "stream",
          "name": "stdout",
          "text": [
            "<class 'pandas.core.frame.DataFrame'>\n",
            "RangeIndex: 1115 entries, 0 to 1114\n",
            "Data columns (total 10 columns):\n",
            " #   Column                     Non-Null Count  Dtype  \n",
            "---  ------                     --------------  -----  \n",
            " 0   Store                      1115 non-null   int64  \n",
            " 1   StoreType                  1115 non-null   object \n",
            " 2   Assortment                 1115 non-null   object \n",
            " 3   CompetitionDistance        1112 non-null   float64\n",
            " 4   CompetitionOpenSinceMonth  761 non-null    float64\n",
            " 5   CompetitionOpenSinceYear   761 non-null    float64\n",
            " 6   Promo2                     1115 non-null   int64  \n",
            " 7   Promo2SinceWeek            571 non-null    float64\n",
            " 8   Promo2SinceYear            571 non-null    float64\n",
            " 9   PromoInterval              571 non-null    object \n",
            "dtypes: float64(5), int64(2), object(3)\n",
            "memory usage: 87.2+ KB\n"
          ]
        }
      ]
    },
    {
      "cell_type": "markdown",
      "source": [
        "* In Store dataset, we provided with 1115 entires(rows) and 10 features \n",
        "* few features are come up with null value.\n",
        "* Hence its important to process the null values in the dataset."
      ],
      "metadata": {
        "id": "TkKjb53FpCCZ"
      }
    },
    {
      "cell_type": "code",
      "source": [
        "store_df.isnull().sum()"
      ],
      "metadata": {
        "colab": {
          "base_uri": "https://localhost:8080/"
        },
        "id": "G-Q1fG5ynD5M",
        "outputId": "aaafb849-a914-471c-cf62-4deee621a7e5"
      },
      "execution_count": 12,
      "outputs": [
        {
          "output_type": "execute_result",
          "data": {
            "text/plain": [
              "Store                          0\n",
              "StoreType                      0\n",
              "Assortment                     0\n",
              "CompetitionDistance            3\n",
              "CompetitionOpenSinceMonth    354\n",
              "CompetitionOpenSinceYear     354\n",
              "Promo2                         0\n",
              "Promo2SinceWeek              544\n",
              "Promo2SinceYear              544\n",
              "PromoInterval                544\n",
              "dtype: int64"
            ]
          },
          "metadata": {},
          "execution_count": 12
        }
      ]
    },
    {
      "cell_type": "code",
      "source": [
        "(round(store_df.isnull().sum()/(store_df.shape[0]),4)*100)"
      ],
      "metadata": {
        "colab": {
          "base_uri": "https://localhost:8080/"
        },
        "id": "9moKWQN7p048",
        "outputId": "bae8b304-0246-4c1c-fd26-74494949b2c3"
      },
      "execution_count": 13,
      "outputs": [
        {
          "output_type": "execute_result",
          "data": {
            "text/plain": [
              "Store                         0.00\n",
              "StoreType                     0.00\n",
              "Assortment                    0.00\n",
              "CompetitionDistance           0.27\n",
              "CompetitionOpenSinceMonth    31.75\n",
              "CompetitionOpenSinceYear     31.75\n",
              "Promo2                        0.00\n",
              "Promo2SinceWeek              48.79\n",
              "Promo2SinceYear              48.79\n",
              "PromoInterval                48.79\n",
              "dtype: float64"
            ]
          },
          "metadata": {},
          "execution_count": 13
        }
      ]
    },
    {
      "cell_type": "markdown",
      "source": [
        "* The Percentage of Null values in each feature in the sales dataset has been shown above.\n",
        "* Feature CompetitionDistance with less than 1% null values\n",
        "* It shows that features such as CompetitionOpenSinceMonth, CompetitionOpenSinceYear consists of around 30% null values.\n",
        "* Promo2SinceYear, Promo2SinceWeek, PromoInterval are the features with the 50% of null values in respective entities.\n",
        "\n",
        "\n",
        "Hence, we should deal with the null values by various methods before proceeding further."
      ],
      "metadata": {
        "id": "LWtre6HErETW"
      }
    },
    {
      "cell_type": "markdown",
      "source": [
        "## Dealing with Null values"
      ],
      "metadata": {
        "id": "ELmOcZeysSfx"
      }
    },
    {
      "cell_type": "markdown",
      "source": [
        "### Treating Null values on feature \"CompetitionDistance\""
      ],
      "metadata": {
        "id": "nmlKQVtus9zN"
      }
    },
    {
      "cell_type": "markdown",
      "source": [
        "* As we already known that \"CompetitionDistance\" is the distance in meters to the nearest competitors.\n",
        "* Hence distance of each store from the competitor will be seen using **\"Distribution Plot\"**"
      ],
      "metadata": {
        "id": "X-hT-OoMtXpR"
      }
    },
    {
      "cell_type": "code",
      "source": [
        "plt.subplots(figsize=(10, 6))\n",
        "sns.distplot(x = store_df[\"CompetitionDistance\"])\n",
        "plt.xlabel(\"Stores\")\n",
        "plt.ylabel(\"Distance from the Competitors\")\n"
      ],
      "metadata": {
        "colab": {
          "base_uri": "https://localhost:8080/",
          "height": 405
        },
        "id": "9lQ6LIK6rDYE",
        "outputId": "1819cf49-5fea-422b-c823-4332094fac45"
      },
      "execution_count": 14,
      "outputs": [
        {
          "output_type": "execute_result",
          "data": {
            "text/plain": [
              "Text(0, 0.5, 'Distance from the Competitors')"
            ]
          },
          "metadata": {},
          "execution_count": 14
        },
        {
          "output_type": "display_data",
          "data": {
            "text/plain": [
              "<Figure size 720x432 with 1 Axes>"
            ],
            "image/png": "[encoded data removed]"
          },
          "metadata": {
            "needs_background": "light"
          }
        }
      ]
    },
    {
      "cell_type": "markdown",
      "source": [
        "* General Question raises here is, What measure of central tendency should we take?\n",
        "* Since the Distribution has been positively skewed.\n",
        "* There is posibility of the **outliers**\n",
        "* Hence, it's better to choose **\"Median\"** to measure the central tendency of this feature."
      ],
      "metadata": {
        "id": "xMU7G5r7wTmQ"
      }
    },
    {
      "cell_type": "code",
      "source": [
        "store_df[\"CompetitionDistance\"].fillna(store_df[\"CompetitionDistance\"].median(), inplace = True)"
      ],
      "metadata": {
        "id": "EQLj1yEHqEdq"
      },
      "execution_count": 15,
      "outputs": []
    },
    {
      "cell_type": "code",
      "source": [
        "store_df.info()"
      ],
      "metadata": {
        "colab": {
          "base_uri": "https://localhost:8080/"
        },
        "id": "beE97jPXxebc",
        "outputId": "d3ffeaef-aedc-44e1-84a8-a4bf9c9345ae"
      },
      "execution_count": 16,
      "outputs": [
        {
          "output_type": "stream",
          "name": "stdout",
          "text": [
            "<class 'pandas.core.frame.DataFrame'>\n",
            "RangeIndex: 1115 entries, 0 to 1114\n",
            "Data columns (total 10 columns):\n",
            " #   Column                     Non-Null Count  Dtype  \n",
            "---  ------                     --------------  -----  \n",
            " 0   Store                      1115 non-null   int64  \n",
            " 1   StoreType                  1115 non-null   object \n",
            " 2   Assortment                 1115 non-null   object \n",
            " 3   CompetitionDistance        1115 non-null   float64\n",
            " 4   CompetitionOpenSinceMonth  761 non-null    float64\n",
            " 5   CompetitionOpenSinceYear   761 non-null    float64\n",
            " 6   Promo2                     1115 non-null   int64  \n",
            " 7   Promo2SinceWeek            571 non-null    float64\n",
            " 8   Promo2SinceYear            571 non-null    float64\n",
            " 9   PromoInterval              571 non-null    object \n",
            "dtypes: float64(5), int64(2), object(3)\n",
            "memory usage: 87.2+ KB\n"
          ]
        }
      ]
    },
    {
      "cell_type": "markdown",
      "source": [
        "### Treating the null values on features \"CompetitionOpenSinceMonth\" and \"CompetitionOpenSinceYear\""
      ],
      "metadata": {
        "id": "0SBVMFVmx971"
      }
    },
    {
      "cell_type": "code",
      "source": [
        "store_df[\"CompetitionOpenSinceMonth\"].value_counts()"
      ],
      "metadata": {
        "colab": {
          "base_uri": "https://localhost:8080/"
        },
        "id": "w2DTiNsQyirQ",
        "outputId": "7faddcf6-7c4e-4569-c574-32e9eb83a349"
      },
      "execution_count": 17,
      "outputs": [
        {
          "output_type": "execute_result",
          "data": {
            "text/plain": [
              "9.0     125\n",
              "4.0      94\n",
              "11.0     92\n",
              "3.0      70\n",
              "7.0      67\n",
              "12.0     64\n",
              "10.0     61\n",
              "6.0      50\n",
              "5.0      44\n",
              "2.0      41\n",
              "8.0      39\n",
              "1.0      14\n",
              "Name: CompetitionOpenSinceMonth, dtype: int64"
            ]
          },
          "metadata": {},
          "execution_count": 17
        }
      ]
    },
    {
      "cell_type": "code",
      "source": [
        "plt.subplots(figsize=(10, 6))\n",
        "sns.distplot(x = store_df[\"CompetitionOpenSinceMonth\"].value_counts())"
      ],
      "metadata": {
        "colab": {
          "base_uri": "https://localhost:8080/",
          "height": 391
        },
        "id": "23ioSIgCyJOG",
        "outputId": "3ca1c7bd-bd7e-4537-aad7-bd90cb55882b"
      },
      "execution_count": 18,
      "outputs": [
        {
          "output_type": "execute_result",
          "data": {
            "text/plain": [
              "<matplotlib.axes._subplots.AxesSubplot at 0x7fa8185265d0>"
            ]
          },
          "metadata": {},
          "execution_count": 18
        },
        {
          "output_type": "display_data",
          "data": {
            "text/plain": [
              "<Figure size 720x432 with 1 Axes>"
            ],
            "image/png": "[encoded data removed]"
          },
          "metadata": {
            "needs_background": "light"
          }
        }
      ]
    },
    {
      "cell_type": "code",
      "source": [
        "store_df[\"CompetitionOpenSinceYear\"].value_counts()"
      ],
      "metadata": {
        "colab": {
          "base_uri": "https://localhost:8080/"
        },
        "id": "-7dEPwG80FI0",
        "outputId": "043867eb-3603-4073-d324-f80e4c84547b"
      },
      "execution_count": 19,
      "outputs": [
        {
          "output_type": "execute_result",
          "data": {
            "text/plain": [
              "2013.0    83\n",
              "2012.0    82\n",
              "2014.0    70\n",
              "2005.0    62\n",
              "2010.0    55\n",
              "2008.0    54\n",
              "2009.0    54\n",
              "2011.0    54\n",
              "2007.0    48\n",
              "2006.0    47\n",
              "2015.0    38\n",
              "2002.0    27\n",
              "2004.0    22\n",
              "2003.0    19\n",
              "2001.0    16\n",
              "2000.0    10\n",
              "1999.0     8\n",
              "1990.0     5\n",
              "1995.0     2\n",
              "1994.0     2\n",
              "1961.0     1\n",
              "1900.0     1\n",
              "1998.0     1\n",
              "Name: CompetitionOpenSinceYear, dtype: int64"
            ]
          },
          "metadata": {},
          "execution_count": 19
        }
      ]
    },
    {
      "cell_type": "code",
      "source": [
        "plt.subplots(figsize=(10, 6))\n",
        "sns.distplot(x = store_df[\"CompetitionOpenSinceYear\"].value_counts())"
      ],
      "metadata": {
        "colab": {
          "base_uri": "https://localhost:8080/",
          "height": 394
        },
        "id": "z3GUTl8bzW38",
        "outputId": "785ca5e3-38c6-4b81-a564-06096e01c045"
      },
      "execution_count": 20,
      "outputs": [
        {
          "output_type": "execute_result",
          "data": {
            "text/plain": [
              "<matplotlib.axes._subplots.AxesSubplot at 0x7fa817ff3c50>"
            ]
          },
          "metadata": {},
          "execution_count": 20
        },
        {
          "output_type": "display_data",
          "data": {
            "text/plain": [
              "<Figure size 720x432 with 1 Axes>"
            ],
            "image/png": "[encoded data removed]"
          },
          "metadata": {
            "needs_background": "light"
          }
        }
      ]
    },
    {
      "cell_type": "markdown",
      "source": [
        "* CompetitionOpenSince[Month/Year] - gives the approximate year and month of the time the nearest competitor was opened\n",
        "* Considering the Above two distribution, I choose to impute the null values by calcuating the **\"Mean\"** as the central tendency measure for both this features.\n",
        "* Also we simply say, competition for the stores in general are peak for few and low for very few stores.\n",
        "* Hence we dealing with the mean values for treating the null."
      ],
      "metadata": {
        "id": "6Ir7tp49yeyn"
      }
    },
    {
      "cell_type": "code",
      "source": [
        "store_df[\"CompetitionOpenSinceMonth\"].fillna(round(store_df[\"CompetitionOpenSinceMonth\"].mean()), inplace =True)\n",
        "store_df[\"CompetitionOpenSinceYear\"].fillna(round(store_df[\"CompetitionOpenSinceYear\"].mean()), inplace =True)"
      ],
      "metadata": {
        "id": "lMWGI58B0fzj"
      },
      "execution_count": 21,
      "outputs": []
    },
    {
      "cell_type": "code",
      "source": [
        "store_df.info()"
      ],
      "metadata": {
        "colab": {
          "base_uri": "https://localhost:8080/"
        },
        "id": "tMkowi1q3Ebv",
        "outputId": "ffcf55d2-2e5e-47b3-bb79-8468ae990920"
      },
      "execution_count": 22,
      "outputs": [
        {
          "output_type": "stream",
          "name": "stdout",
          "text": [
            "<class 'pandas.core.frame.DataFrame'>\n",
            "RangeIndex: 1115 entries, 0 to 1114\n",
            "Data columns (total 10 columns):\n",
            " #   Column                     Non-Null Count  Dtype  \n",
            "---  ------                     --------------  -----  \n",
            " 0   Store                      1115 non-null   int64  \n",
            " 1   StoreType                  1115 non-null   object \n",
            " 2   Assortment                 1115 non-null   object \n",
            " 3   CompetitionDistance        1115 non-null   float64\n",
            " 4   CompetitionOpenSinceMonth  1115 non-null   float64\n",
            " 5   CompetitionOpenSinceYear   1115 non-null   float64\n",
            " 6   Promo2                     1115 non-null   int64  \n",
            " 7   Promo2SinceWeek            571 non-null    float64\n",
            " 8   Promo2SinceYear            571 non-null    float64\n",
            " 9   PromoInterval              571 non-null    object \n",
            "dtypes: float64(5), int64(2), object(3)\n",
            "memory usage: 87.2+ KB\n"
          ]
        }
      ]
    },
    {
      "cell_type": "markdown",
      "source": [
        "### Treating null values for Promotions"
      ],
      "metadata": {
        "id": "8GyL8l0C3dae"
      }
    },
    {
      "cell_type": "markdown",
      "source": [
        "* For other three features, we just replacing the null values by \"0\"\n",
        "* Assuming the if the Promotion since detail not given, then we considering there is no promotions in the store."
      ],
      "metadata": {
        "id": "LG24hROy3LV9"
      }
    },
    {
      "cell_type": "code",
      "source": [
        "store_df[\"Promo2SinceWeek\"].fillna(value = 0 , inplace = True)\n",
        "store_df[\"Promo2SinceYear\"].fillna(value = 0 , inplace = True)\n",
        "store_df[\"PromoInterval\"].fillna(value = 0 , inplace = True)"
      ],
      "metadata": {
        "id": "yrxtlDNz3GXf"
      },
      "execution_count": 23,
      "outputs": []
    },
    {
      "cell_type": "code",
      "source": [
        "(round(store_df.isnull().sum()/(store_df.shape[0]),4)*100)"
      ],
      "metadata": {
        "colab": {
          "base_uri": "https://localhost:8080/"
        },
        "id": "DBg7dOTv4LDe",
        "outputId": "4ab9216b-d81e-4883-d375-165387f4f99d"
      },
      "execution_count": 24,
      "outputs": [
        {
          "output_type": "execute_result",
          "data": {
            "text/plain": [
              "Store                        0.0\n",
              "StoreType                    0.0\n",
              "Assortment                   0.0\n",
              "CompetitionDistance          0.0\n",
              "CompetitionOpenSinceMonth    0.0\n",
              "CompetitionOpenSinceYear     0.0\n",
              "Promo2                       0.0\n",
              "Promo2SinceWeek              0.0\n",
              "Promo2SinceYear              0.0\n",
              "PromoInterval                0.0\n",
              "dtype: float64"
            ]
          },
          "metadata": {},
          "execution_count": 24
        }
      ]
    },
    {
      "cell_type": "markdown",
      "source": [
        "* Hence, Both the dataset has been cleaned without null values in the entities of the features\n",
        "* we shall now proceed for the merging of the two dataset"
      ],
      "metadata": {
        "id": "N3xp8cfk4YBr"
      }
    },
    {
      "cell_type": "markdown",
      "source": [
        "##Merging of Two Source Dataset"
      ],
      "metadata": {
        "id": "Xl8zTP744x1-"
      }
    },
    {
      "cell_type": "code",
      "source": [
        "df = sales_df.merge(right = store_df, on= \"Store\", how = \"left\")  "
      ],
      "metadata": {
        "id": "8KSVwDYH4P47"
      },
      "execution_count": 25,
      "outputs": []
    },
    {
      "cell_type": "code",
      "source": [
        "df.shape"
      ],
      "metadata": {
        "colab": {
          "base_uri": "https://localhost:8080/"
        },
        "id": "_HD2USIC5Erd",
        "outputId": "7e4c6c8f-f0b7-4f8f-eac5-c71aaa8a7a49"
      },
      "execution_count": 26,
      "outputs": [
        {
          "output_type": "execute_result",
          "data": {
            "text/plain": [
              "(1017209, 18)"
            ]
          },
          "metadata": {},
          "execution_count": 26
        }
      ]
    },
    {
      "cell_type": "code",
      "source": [
        "df.head().T"
      ],
      "metadata": {
        "colab": {
          "base_uri": "https://localhost:8080/",
          "height": 613
        },
        "id": "mWkoVWwW5GFM",
        "outputId": "0bf76b66-0aeb-4a07-b420-f07f572f44ea"
      },
      "execution_count": 27,
      "outputs": [
        {
          "output_type": "execute_result",
          "data": {
            "text/plain": [
              "                                    0                1                2  \\\n",
              "Store                               1                2                3   \n",
              "DayOfWeek                           5                5                5   \n",
              "Date                       2015-07-31       2015-07-31       2015-07-31   \n",
              "Sales                            5263             6064             8314   \n",
              "Customers                         555              625              821   \n",
              "Open                                1                1                1   \n",
              "Promo                               1                1                1   \n",
              "StateHoliday                        0                0                0   \n",
              "SchoolHoliday                       1                1                1   \n",
              "StoreType                           c                a                a   \n",
              "Assortment                          a                a                a   \n",
              "CompetitionDistance            1270.0            570.0          14130.0   \n",
              "CompetitionOpenSinceMonth         9.0             11.0             12.0   \n",
              "CompetitionOpenSinceYear       2008.0           2007.0           2006.0   \n",
              "Promo2                              0                1                1   \n",
              "Promo2SinceWeek                   0.0             13.0             14.0   \n",
              "Promo2SinceYear                   0.0           2010.0           2011.0   \n",
              "PromoInterval                       0  Jan,Apr,Jul,Oct  Jan,Apr,Jul,Oct   \n",
              "\n",
              "                                    3           4  \n",
              "Store                               4           5  \n",
              "DayOfWeek                           5           5  \n",
              "Date                       2015-07-31  2015-07-31  \n",
              "Sales                           13995        4822  \n",
              "Customers                        1498         559  \n",
              "Open                                1           1  \n",
              "Promo                               1           1  \n",
              "StateHoliday                        0           0  \n",
              "SchoolHoliday                       1           1  \n",
              "StoreType                           c           a  \n",
              "Assortment                          c           a  \n",
              "CompetitionDistance             620.0     29910.0  \n",
              "CompetitionOpenSinceMonth         9.0         4.0  \n",
              "CompetitionOpenSinceYear       2009.0      2015.0  \n",
              "Promo2                              0           0  \n",
              "Promo2SinceWeek                   0.0         0.0  \n",
              "Promo2SinceYear                   0.0         0.0  \n",
              "PromoInterval                       0           0  "
            ],
            "text/html": [
              "\n",
              "  <div id=\"df-0c17d601-3a59-4004-bcee-05b1891dc620\">\n",
              "    <div class=\"colab-df-container\">\n",
              "      <div>\n",
              "<style scoped>\n",
              "    .dataframe tbody tr th:only-of-type {\n",
              "        vertical-align: middle;\n",
              "    }\n",
              "\n",
              "    .dataframe tbody tr th {\n",
              "        vertical-align: top;\n",
              "    }\n",
              "\n",
              "    .dataframe thead th {\n",
              "        text-align: right;\n",
              "    }\n",
              "</style>\n",
              "<table border=\"1\" class=\"dataframe\">\n",
              "  <thead>\n",
              "    <tr style=\"text-align: right;\">\n",
              "      <th></th>\n",
              "      <th>0</th>\n",
              "      <th>1</th>\n",
              "      <th>2</th>\n",
              "      <th>3</th>\n",
              "      <th>4</th>\n",
              "    </tr>\n",
              "  </thead>\n",
              "  <tbody>\n",
              "    <tr>\n",
              "      <th>Store</th>\n",
              "      <td>1</td>\n",
              "      <td>2</td>\n",
              "      <td>3</td>\n",
              "      <td>4</td>\n",
              "      <td>5</td>\n",
              "    </tr>\n",
              "    <tr>\n",
              "      <th>DayOfWeek</th>\n",
              "      <td>5</td>\n",
              "      <td>5</td>\n",
              "      <td>5</td>\n",
              "      <td>5</td>\n",
              "      <td>5</td>\n",
              "    </tr>\n",
              "    <tr>\n",
              "      <th>Date</th>\n",
              "      <td>2015-07-31</td>\n",
              "      <td>2015-07-31</td>\n",
              "      <td>2015-07-31</td>\n",
              "      <td>2015-07-31</td>\n",
              "      <td>2015-07-31</td>\n",
              "    </tr>\n",
              "    <tr>\n",
              "      <th>Sales</th>\n",
              "      <td>5263</td>\n",
              "      <td>6064</td>\n",
              "      <td>8314</td>\n",
              "      <td>13995</td>\n",
              "      <td>4822</td>\n",
              "    </tr>\n",
              "    <tr>\n",
              "      <th>Customers</th>\n",
              "      <td>555</td>\n",
              "      <td>625</td>\n",
              "      <td>821</td>\n",
              "      <td>1498</td>\n",
              "      <td>559</td>\n",
              "    </tr>\n",
              "    <tr>\n",
              "      <th>Open</th>\n",
              "      <td>1</td>\n",
              "      <td>1</td>\n",
              "      <td>1</td>\n",
              "      <td>1</td>\n",
              "      <td>1</td>\n",
              "    </tr>\n",
              "    <tr>\n",
              "      <th>Promo</th>\n",
              "      <td>1</td>\n",
              "      <td>1</td>\n",
              "      <td>1</td>\n",
              "      <td>1</td>\n",
              "      <td>1</td>\n",
              "    </tr>\n",
              "    <tr>\n",
              "      <th>StateHoliday</th>\n",
              "      <td>0</td>\n",
              "      <td>0</td>\n",
              "      <td>0</td>\n",
              "      <td>0</td>\n",
              "      <td>0</td>\n",
              "    </tr>\n",
              "    <tr>\n",
              "      <th>SchoolHoliday</th>\n",
              "      <td>1</td>\n",
              "      <td>1</td>\n",
              "      <td>1</td>\n",
              "      <td>1</td>\n",
              "      <td>1</td>\n",
              "    </tr>\n",
              "    <tr>\n",
              "      <th>StoreType</th>\n",
              "      <td>c</td>\n",
              "      <td>a</td>\n",
              "      <td>a</td>\n",
              "      <td>c</td>\n",
              "      <td>a</td>\n",
              "    </tr>\n",
              "    <tr>\n",
              "      <th>Assortment</th>\n",
              "      <td>a</td>\n",
              "      <td>a</td>\n",
              "      <td>a</td>\n",
              "      <td>c</td>\n",
              "      <td>a</td>\n",
              "    </tr>\n",
              "    <tr>\n",
              "      <th>CompetitionDistance</th>\n",
              "      <td>1270.0</td>\n",
              "      <td>570.0</td>\n",
              "      <td>14130.0</td>\n",
              "      <td>620.0</td>\n",
              "      <td>29910.0</td>\n",
              "    </tr>\n",
              "    <tr>\n",
              "      <th>CompetitionOpenSinceMonth</th>\n",
              "      <td>9.0</td>\n",
              "      <td>11.0</td>\n",
              "      <td>12.0</td>\n",
              "      <td>9.0</td>\n",
              "      <td>4.0</td>\n",
              "    </tr>\n",
              "    <tr>\n",
              "      <th>CompetitionOpenSinceYear</th>\n",
              "      <td>2008.0</td>\n",
              "      <td>2007.0</td>\n",
              "      <td>2006.0</td>\n",
              "      <td>2009.0</td>\n",
              "      <td>2015.0</td>\n",
              "    </tr>\n",
              "    <tr>\n",
              "      <th>Promo2</th>\n",
              "      <td>0</td>\n",
              "      <td>1</td>\n",
              "      <td>1</td>\n",
              "      <td>0</td>\n",
              "      <td>0</td>\n",
              "    </tr>\n",
              "    <tr>\n",
              "      <th>Promo2SinceWeek</th>\n",
              "      <td>0.0</td>\n",
              "      <td>13.0</td>\n",
              "      <td>14.0</td>\n",
              "      <td>0.0</td>\n",
              "      <td>0.0</td>\n",
              "    </tr>\n",
              "    <tr>\n",
              "      <th>Promo2SinceYear</th>\n",
              "      <td>0.0</td>\n",
              "      <td>2010.0</td>\n",
              "      <td>2011.0</td>\n",
              "      <td>0.0</td>\n",
              "      <td>0.0</td>\n",
              "    </tr>\n",
              "    <tr>\n",
              "      <th>PromoInterval</th>\n",
              "      <td>0</td>\n",
              "      <td>Jan,Apr,Jul,Oct</td>\n",
              "      <td>Jan,Apr,Jul,Oct</td>\n",
              "      <td>0</td>\n",
              "      <td>0</td>\n",
              "    </tr>\n",
              "  </tbody>\n",
              "</table>\n",
              "</div>\n",
              "      <button class=\"colab-df-convert\" onclick=\"convertToInteractive('df-0c17d601-3a59-4004-bcee-05b1891dc620')\"\n",
              "              title=\"Convert this dataframe to an interactive table.\"\n",
              "              style=\"display:none;\">\n",
              "        \n",
              "  <svg xmlns=\"http://www.w3.org/2000/svg\" height=\"24px\"viewBox=\"0 0 24 24\"\n",
              "       width=\"24px\">\n",
              "    <path d=\"M0 0h24v24H0V0z\" fill=\"none\"/>\n",
              "    <path d=\"M18.56 5.44l.94 2.06.94-2.06 2.06-.94-2.06-.94-.94-2.06-.94 2.06-2.06.94zm-11 1L8.5 8.5l.94-2.06 2.06-.94-2.06-.94L8.5 2.5l-.94 2.06-2.06.94zm10 10l.94 2.06.94-2.06 2.06-.94-2.06-.94-.94-2.06-.94 2.06-2.06.94z\"/><path d=\"M17.41 7.96l-1.37-1.37c-.4-.4-.92-.59-1.43-.59-.52 0-1.04.2-1.43.59L10.3 9.45l-7.72 7.72c-.78.78-.78 2.05 0 2.83L4 21.41c.39.39.9.59 1.41.59.51 0 1.02-.2 1.41-.59l7.78-7.78 2.81-2.81c.8-.78.8-2.07 0-2.86zM5.41 20L4 18.59l7.72-7.72 1.47 1.35L5.41 20z\"/>\n",
              "  </svg>\n",
              "      </button>\n",
              "      \n",
              "  <style>\n",
              "    .colab-df-container {\n",
              "      display:flex;\n",
              "      flex-wrap:wrap;\n",
              "      gap: 12px;\n",
              "    }\n",
              "\n",
              "    .colab-df-convert {\n",
              "      background-color: #E8F0FE;\n",
              "      border: none;\n",
              "      border-radius: 50%;\n",
              "      cursor: pointer;\n",
              "      display: none;\n",
              "      fill: #1967D2;\n",
              "      height: 32px;\n",
              "      padding: 0 0 0 0;\n",
              "      width: 32px;\n",
              "    }\n",
              "\n",
              "    .colab-df-convert:hover {\n",
              "      background-color: #E2EBFA;\n",
              "      box-shadow: 0px 1px 2px rgba(60, 64, 67, 0.3), 0px 1px 3px 1px rgba(60, 64, 67, 0.15);\n",
              "      fill: #174EA6;\n",
              "    }\n",
              "\n",
              "    [theme=dark] .colab-df-convert {\n",
              "      background-color: #3B4455;\n",
              "      fill: #D2E3FC;\n",
              "    }\n",
              "\n",
              "    [theme=dark] .colab-df-convert:hover {\n",
              "      background-color: #434B5C;\n",
              "      box-shadow: 0px 1px 3px 1px rgba(0, 0, 0, 0.15);\n",
              "      filter: drop-shadow(0px 1px 2px rgba(0, 0, 0, 0.3));\n",
              "      fill: #FFFFFF;\n",
              "    }\n",
              "  </style>\n",
              "\n",
              "      <script>\n",
              "        const buttonEl =\n",
              "          document.querySelector('#df-0c17d601-3a59-4004-bcee-05b1891dc620 button.colab-df-convert');\n",
              "        buttonEl.style.display =\n",
              "          google.colab.kernel.accessAllowed ? 'block' : 'none';\n",
              "\n",
              "        async function convertToInteractive(key) {\n",
              "          const element = document.querySelector('#df-0c17d601-3a59-4004-bcee-05b1891dc620');\n",
              "          const dataTable =\n",
              "            await google.colab.kernel.invokeFunction('convertToInteractive',\n",
              "                                                     [key], {});\n",
              "          if (!dataTable) return;\n",
              "\n",
              "          const docLinkHtml = 'Like what you see? Visit the ' +\n",
              "            '<a target=\"_blank\" href=https://colab.research.google.com/notebooks/data_table.ipynb>data table notebook</a>'\n",
              "            + ' to learn more about interactive tables.';\n",
              "          element.innerHTML = '';\n",
              "          dataTable['output_type'] = 'display_data';\n",
              "          await google.colab.output.renderOutput(dataTable, element);\n",
              "          const docLink = document.createElement('div');\n",
              "          docLink.innerHTML = docLinkHtml;\n",
              "          element.appendChild(docLink);\n",
              "        }\n",
              "      </script>\n",
              "    </div>\n",
              "  </div>\n",
              "  "
            ]
          },
          "metadata": {},
          "execution_count": 27
        }
      ]
    },
    {
      "cell_type": "markdown",
      "source": [
        "##Finding and Creating the categorical column list "
      ],
      "metadata": {
        "id": "qPl0tn92ZQPF"
      }
    },
    {
      "cell_type": "code",
      "source": [
        "df.columns"
      ],
      "metadata": {
        "colab": {
          "base_uri": "https://localhost:8080/"
        },
        "id": "Dy3VeDfGZtDj",
        "outputId": "a8b2d90f-f2bb-495c-aa01-f9a959c077ac"
      },
      "execution_count": 28,
      "outputs": [
        {
          "output_type": "execute_result",
          "data": {
            "text/plain": [
              "Index(['Store', 'DayOfWeek', 'Date', 'Sales', 'Customers', 'Open', 'Promo',\n",
              "       'StateHoliday', 'SchoolHoliday', 'StoreType', 'Assortment',\n",
              "       'CompetitionDistance', 'CompetitionOpenSinceMonth',\n",
              "       'CompetitionOpenSinceYear', 'Promo2', 'Promo2SinceWeek',\n",
              "       'Promo2SinceYear', 'PromoInterval'],\n",
              "      dtype='object')"
            ]
          },
          "metadata": {},
          "execution_count": 28
        }
      ]
    },
    {
      "cell_type": "markdown",
      "source": [
        "* I will be iterating through each column to find categorical features.\n"
      ],
      "metadata": {
        "id": "fZ5YV7dUb5Bz"
      }
    },
    {
      "cell_type": "code",
      "source": [
        "categorical_features = []\n",
        "for i in df.columns:\n",
        "  a = df[i].value_counts()\n",
        "  if len(a) < 600:\n",
        "    categorical_features.append(i)\n",
        "print(categorical_features)"
      ],
      "metadata": {
        "colab": {
          "base_uri": "https://localhost:8080/"
        },
        "id": "pgMPOcrkZwLo",
        "outputId": "66635941-69cf-4058-ac9f-528c55798a88"
      },
      "execution_count": 34,
      "outputs": [
        {
          "output_type": "stream",
          "name": "stdout",
          "text": [
            "['DayOfWeek', 'Open', 'Promo', 'StateHoliday', 'SchoolHoliday', 'StoreType', 'Assortment', 'CompetitionOpenSinceMonth', 'CompetitionOpenSinceYear', 'Promo2', 'Promo2SinceWeek', 'Promo2SinceYear', 'PromoInterval']\n"
          ]
        }
      ]
    },
    {
      "cell_type": "markdown",
      "source": [
        "* Now, lets iterate through the each categorical feature.\n",
        "* And finding the unique categorical values in the each features"
      ],
      "metadata": {
        "id": "9E2GP7WkcMcN"
      }
    },
    {
      "cell_type": "code",
      "source": [
        "list(df[\"DayOfWeek\"].unique())"
      ],
      "metadata": {
        "colab": {
          "base_uri": "https://localhost:8080/"
        },
        "id": "6OdmJivgcnv1",
        "outputId": "32729cdc-82a3-40df-d925-6064ec7fe41e"
      },
      "execution_count": 37,
      "outputs": [
        {
          "output_type": "execute_result",
          "data": {
            "text/plain": [
              "[5, 4, 3, 2, 1, 7, 6]"
            ]
          },
          "metadata": {},
          "execution_count": 37
        }
      ]
    },
    {
      "cell_type": "code",
      "source": [
        "for col in categorical_features:\n",
        "  values = df[col].unique()\n",
        "  print(f\"The Unique categorical values of the feature {col} is {values}\")\n",
        "  print(\"\\n\")"
      ],
      "metadata": {
        "id": "1znoPXPs5HXD",
        "colab": {
          "base_uri": "https://localhost:8080/"
        },
        "outputId": "d644b476-ee9a-4d9d-981d-6ac04ce80dea"
      },
      "execution_count": 42,
      "outputs": [
        {
          "output_type": "stream",
          "name": "stdout",
          "text": [
            "The Unique categorical values of the feature DayOfWeek is [5 4 3 2 1 7 6]\n",
            "\n",
            "\n",
            "The Unique categorical values of the feature Open is [1 0]\n",
            "\n",
            "\n",
            "The Unique categorical values of the feature Promo is [1 0]\n",
            "\n",
            "\n",
            "The Unique categorical values of the feature StateHoliday is ['0' 'a' 'b' 'c' 0]\n",
            "\n",
            "\n",
            "The Unique categorical values of the feature SchoolHoliday is [1 0]\n",
            "\n",
            "\n",
            "The Unique categorical values of the feature StoreType is ['c' 'a' 'd' 'b']\n",
            "\n",
            "\n",
            "The Unique categorical values of the feature Assortment is ['a' 'c' 'b']\n",
            "\n",
            "\n",
            "The Unique categorical values of the feature CompetitionOpenSinceMonth is [ 9. 11. 12.  4. 10.  8.  7.  3.  6.  5.  1.  2.]\n",
            "\n",
            "\n",
            "The Unique categorical values of the feature CompetitionOpenSinceYear is [2008. 2007. 2006. 2009. 2015. 2013. 2014. 2000. 2011. 2010. 2005. 1999.\n",
            " 2003. 2012. 2004. 2002. 1961. 1995. 2001. 1990. 1994. 1900. 1998.]\n",
            "\n",
            "\n",
            "The Unique categorical values of the feature Promo2 is [0 1]\n",
            "\n",
            "\n",
            "The Unique categorical values of the feature Promo2SinceWeek is [ 0. 13. 14.  1. 45. 40. 26. 22.  5.  6. 10. 31. 37.  9. 39. 27. 18. 35.\n",
            " 23. 48. 36. 50. 44. 49. 28.]\n",
            "\n",
            "\n",
            "The Unique categorical values of the feature Promo2SinceYear is [   0. 2010. 2011. 2012. 2009. 2014. 2015. 2013.]\n",
            "\n",
            "\n",
            "The Unique categorical values of the feature PromoInterval is [0 'Jan,Apr,Jul,Oct' 'Feb,May,Aug,Nov' 'Mar,Jun,Sept,Dec']\n",
            "\n",
            "\n"
          ]
        }
      ]
    },
    {
      "cell_type": "markdown",
      "source": [
        "![image.png](data:image/png;base64,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)\n",
        "\n",
        "* It is noted that \"0\" provided as the string datatype\n",
        "* It's nessasary to change it into integer datatype."
      ],
      "metadata": {
        "id": "Xu54Ld2RfvTx"
      }
    },
    {
      "cell_type": "markdown",
      "source": [
        "### Data Cleaning on Feature values"
      ],
      "metadata": {
        "id": "_yJpIOo0hXDW"
      }
    },
    {
      "cell_type": "code",
      "source": [
        "#Before changing\n",
        "df[\"StateHoliday\"].unique()"
      ],
      "metadata": {
        "colab": {
          "base_uri": "https://localhost:8080/"
        },
        "id": "q_D22X6EgNhx",
        "outputId": "dec62a32-b526-4abf-8773-62e94e81d516"
      },
      "execution_count": 44,
      "outputs": [
        {
          "output_type": "execute_result",
          "data": {
            "text/plain": [
              "array(['0', 'a', 'b', 'c', 0], dtype=object)"
            ]
          },
          "metadata": {},
          "execution_count": 44
        }
      ]
    },
    {
      "cell_type": "code",
      "source": [
        "df[\"StateHoliday\"].replace({\"0\":0}, inplace = True)"
      ],
      "metadata": {
        "id": "-B9GSd4VdUuj"
      },
      "execution_count": 47,
      "outputs": []
    },
    {
      "cell_type": "code",
      "source": [
        "# After Replacing the \"0\" with integer 0\n",
        "df[\"StateHoliday\"].unique()"
      ],
      "metadata": {
        "colab": {
          "base_uri": "https://localhost:8080/"
        },
        "id": "0tVKFg4nghtf",
        "outputId": "d97f6e6a-8c26-46f0-bd1c-f6e0e72f4ec6"
      },
      "execution_count": 48,
      "outputs": [
        {
          "output_type": "execute_result",
          "data": {
            "text/plain": [
              "array([0, 'a', 'b', 'c'], dtype=object)"
            ]
          },
          "metadata": {},
          "execution_count": 48
        }
      ]
    },
    {
      "cell_type": "markdown",
      "source": [
        "### Creating the new columns by extracting the data from \"Date\""
      ],
      "metadata": {
        "id": "SYJFzbJhhdq-"
      }
    },
    {
      "cell_type": "code",
      "source": [
        "df[\"Date\"]"
      ],
      "metadata": {
        "colab": {
          "base_uri": "https://localhost:8080/"
        },
        "id": "yVwopan8giUJ",
        "outputId": "8f26a88e-e5ad-4881-8e1a-28c6c0e09492"
      },
      "execution_count": 49,
      "outputs": [
        {
          "output_type": "execute_result",
          "data": {
            "text/plain": [
              "0          2015-07-31\n",
              "1          2015-07-31\n",
              "2          2015-07-31\n",
              "3          2015-07-31\n",
              "4          2015-07-31\n",
              "              ...    \n",
              "1017204    2013-01-01\n",
              "1017205    2013-01-01\n",
              "1017206    2013-01-01\n",
              "1017207    2013-01-01\n",
              "1017208    2013-01-01\n",
              "Name: Date, Length: 1017209, dtype: object"
            ]
          },
          "metadata": {},
          "execution_count": 49
        }
      ]
    },
    {
      "cell_type": "code",
      "source": [
        "from datetime import datetime"
      ],
      "metadata": {
        "id": "w2Re1J_6ilvu"
      },
      "execution_count": 51,
      "outputs": []
    },
    {
      "cell_type": "code",
      "source": [
        "df_dummy = df.copy()"
      ],
      "metadata": {
        "id": "aRZVzqq5jIED"
      },
      "execution_count": 55,
      "outputs": []
    },
    {
      "cell_type": "code",
      "source": [
        "df[\"Date\"] = df[\"Date\"].astype(np.datetime64)"
      ],
      "metadata": {
        "id": "tYOLWG1-lPlz"
      },
      "execution_count": 71,
      "outputs": []
    },
    {
      "cell_type": "code",
      "source": [
        "df[\"Year\"] = df[\"Date\"].dt.year\n",
        "df[\"month\"] = df[\"Date\"].dt.month\n",
        "df[\"dayofyear\"] = df[\"Date\"].dt.dayofyear\n",
        "df[\"weekofyear\"] = df[\"Date\"].dt.weekofyear\n"
      ],
      "metadata": {
        "id": "avEQq5uKhtGL"
      },
      "execution_count": 72,
      "outputs": []
    },
    {
      "cell_type": "code",
      "source": [
        "df.head().T"
      ],
      "metadata": {
        "colab": {
          "base_uri": "https://localhost:8080/",
          "height": 739
        },
        "id": "0Mwc7mdLiePi",
        "outputId": "f433934c-5d22-4fa6-b434-8c921951c9ef"
      },
      "execution_count": 73,
      "outputs": [
        {
          "output_type": "execute_result",
          "data": {
            "text/plain": [
              "                                             0                    1  \\\n",
              "Store                                        1                    2   \n",
              "DayOfWeek                                    5                    5   \n",
              "Date                       2015-07-31 00:00:00  2015-07-31 00:00:00   \n",
              "Sales                                     5263                 6064   \n",
              "Customers                                  555                  625   \n",
              "Open                                         1                    1   \n",
              "Promo                                        1                    1   \n",
              "StateHoliday                                 0                    0   \n",
              "SchoolHoliday                                1                    1   \n",
              "StoreType                                    c                    a   \n",
              "Assortment                                   a                    a   \n",
              "CompetitionDistance                     1270.0                570.0   \n",
              "CompetitionOpenSinceMonth                  9.0                 11.0   \n",
              "CompetitionOpenSinceYear                2008.0               2007.0   \n",
              "Promo2                                       0                    1   \n",
              "Promo2SinceWeek                            0.0                 13.0   \n",
              "Promo2SinceYear                            0.0               2010.0   \n",
              "PromoInterval                                0      Jan,Apr,Jul,Oct   \n",
              "Year                                      2015                 2015   \n",
              "month                                        7                    7   \n",
              "dayofyear                                  212                  212   \n",
              "weekofyear                                  31                   31   \n",
              "\n",
              "                                             2                    3  \\\n",
              "Store                                        3                    4   \n",
              "DayOfWeek                                    5                    5   \n",
              "Date                       2015-07-31 00:00:00  2015-07-31 00:00:00   \n",
              "Sales                                     8314                13995   \n",
              "Customers                                  821                 1498   \n",
              "Open                                         1                    1   \n",
              "Promo                                        1                    1   \n",
              "StateHoliday                                 0                    0   \n",
              "SchoolHoliday                                1                    1   \n",
              "StoreType                                    a                    c   \n",
              "Assortment                                   a                    c   \n",
              "CompetitionDistance                    14130.0                620.0   \n",
              "CompetitionOpenSinceMonth                 12.0                  9.0   \n",
              "CompetitionOpenSinceYear                2006.0               2009.0   \n",
              "Promo2                                       1                    0   \n",
              "Promo2SinceWeek                           14.0                  0.0   \n",
              "Promo2SinceYear                         2011.0                  0.0   \n",
              "PromoInterval                  Jan,Apr,Jul,Oct                    0   \n",
              "Year                                      2015                 2015   \n",
              "month                                        7                    7   \n",
              "dayofyear                                  212                  212   \n",
              "weekofyear                                  31                   31   \n",
              "\n",
              "                                             4  \n",
              "Store                                        5  \n",
              "DayOfWeek                                    5  \n",
              "Date                       2015-07-31 00:00:00  \n",
              "Sales                                     4822  \n",
              "Customers                                  559  \n",
              "Open                                         1  \n",
              "Promo                                        1  \n",
              "StateHoliday                                 0  \n",
              "SchoolHoliday                                1  \n",
              "StoreType                                    a  \n",
              "Assortment                                   a  \n",
              "CompetitionDistance                    29910.0  \n",
              "CompetitionOpenSinceMonth                  4.0  \n",
              "CompetitionOpenSinceYear                2015.0  \n",
              "Promo2                                       0  \n",
              "Promo2SinceWeek                            0.0  \n",
              "Promo2SinceYear                            0.0  \n",
              "PromoInterval                                0  \n",
              "Year                                      2015  \n",
              "month                                        7  \n",
              "dayofyear                                  212  \n",
              "weekofyear                                  31  "
            ],
            "text/html": [
              "\n",
              "  <div id=\"df-157ca783-4dc3-4134-969b-52856631c290\">\n",
              "    <div class=\"colab-df-container\">\n",
              "      <div>\n",
              "<style scoped>\n",
              "    .dataframe tbody tr th:only-of-type {\n",
              "        vertical-align: middle;\n",
              "    }\n",
              "\n",
              "    .dataframe tbody tr th {\n",
              "        vertical-align: top;\n",
              "    }\n",
              "\n",
              "    .dataframe thead th {\n",
              "        text-align: right;\n",
              "    }\n",
              "</style>\n",
              "<table border=\"1\" class=\"dataframe\">\n",
              "  <thead>\n",
              "    <tr style=\"text-align: right;\">\n",
              "      <th></th>\n",
              "      <th>0</th>\n",
              "      <th>1</th>\n",
              "      <th>2</th>\n",
              "      <th>3</th>\n",
              "      <th>4</th>\n",
              "    </tr>\n",
              "  </thead>\n",
              "  <tbody>\n",
              "    <tr>\n",
              "      <th>Store</th>\n",
              "      <td>1</td>\n",
              "      <td>2</td>\n",
              "      <td>3</td>\n",
              "      <td>4</td>\n",
              "      <td>5</td>\n",
              "    </tr>\n",
              "    <tr>\n",
              "      <th>DayOfWeek</th>\n",
              "      <td>5</td>\n",
              "      <td>5</td>\n",
              "      <td>5</td>\n",
              "      <td>5</td>\n",
              "      <td>5</td>\n",
              "    </tr>\n",
              "    <tr>\n",
              "      <th>Date</th>\n",
              "      <td>2015-07-31 00:00:00</td>\n",
              "      <td>2015-07-31 00:00:00</td>\n",
              "      <td>2015-07-31 00:00:00</td>\n",
              "      <td>2015-07-31 00:00:00</td>\n",
              "      <td>2015-07-31 00:00:00</td>\n",
              "    </tr>\n",
              "    <tr>\n",
              "      <th>Sales</th>\n",
              "      <td>5263</td>\n",
              "      <td>6064</td>\n",
              "      <td>8314</td>\n",
              "      <td>13995</td>\n",
              "      <td>4822</td>\n",
              "    </tr>\n",
              "    <tr>\n",
              "      <th>Customers</th>\n",
              "      <td>555</td>\n",
              "      <td>625</td>\n",
              "      <td>821</td>\n",
              "      <td>1498</td>\n",
              "      <td>559</td>\n",
              "    </tr>\n",
              "    <tr>\n",
              "      <th>Open</th>\n",
              "      <td>1</td>\n",
              "      <td>1</td>\n",
              "      <td>1</td>\n",
              "      <td>1</td>\n",
              "      <td>1</td>\n",
              "    </tr>\n",
              "    <tr>\n",
              "      <th>Promo</th>\n",
              "      <td>1</td>\n",
              "      <td>1</td>\n",
              "      <td>1</td>\n",
              "      <td>1</td>\n",
              "      <td>1</td>\n",
              "    </tr>\n",
              "    <tr>\n",
              "      <th>StateHoliday</th>\n",
              "      <td>0</td>\n",
              "      <td>0</td>\n",
              "      <td>0</td>\n",
              "      <td>0</td>\n",
              "      <td>0</td>\n",
              "    </tr>\n",
              "    <tr>\n",
              "      <th>SchoolHoliday</th>\n",
              "      <td>1</td>\n",
              "      <td>1</td>\n",
              "      <td>1</td>\n",
              "      <td>1</td>\n",
              "      <td>1</td>\n",
              "    </tr>\n",
              "    <tr>\n",
              "      <th>StoreType</th>\n",
              "      <td>c</td>\n",
              "      <td>a</td>\n",
              "      <td>a</td>\n",
              "      <td>c</td>\n",
              "      <td>a</td>\n",
              "    </tr>\n",
              "    <tr>\n",
              "      <th>Assortment</th>\n",
              "      <td>a</td>\n",
              "      <td>a</td>\n",
              "      <td>a</td>\n",
              "      <td>c</td>\n",
              "      <td>a</td>\n",
              "    </tr>\n",
              "    <tr>\n",
              "      <th>CompetitionDistance</th>\n",
              "      <td>1270.0</td>\n",
              "      <td>570.0</td>\n",
              "      <td>14130.0</td>\n",
              "      <td>620.0</td>\n",
              "      <td>29910.0</td>\n",
              "    </tr>\n",
              "    <tr>\n",
              "      <th>CompetitionOpenSinceMonth</th>\n",
              "      <td>9.0</td>\n",
              "      <td>11.0</td>\n",
              "      <td>12.0</td>\n",
              "      <td>9.0</td>\n",
              "      <td>4.0</td>\n",
              "    </tr>\n",
              "    <tr>\n",
              "      <th>CompetitionOpenSinceYear</th>\n",
              "      <td>2008.0</td>\n",
              "      <td>2007.0</td>\n",
              "      <td>2006.0</td>\n",
              "      <td>2009.0</td>\n",
              "      <td>2015.0</td>\n",
              "    </tr>\n",
              "    <tr>\n",
              "      <th>Promo2</th>\n",
              "      <td>0</td>\n",
              "      <td>1</td>\n",
              "      <td>1</td>\n",
              "      <td>0</td>\n",
              "      <td>0</td>\n",
              "    </tr>\n",
              "    <tr>\n",
              "      <th>Promo2SinceWeek</th>\n",
              "      <td>0.0</td>\n",
              "      <td>13.0</td>\n",
              "      <td>14.0</td>\n",
              "      <td>0.0</td>\n",
              "      <td>0.0</td>\n",
              "    </tr>\n",
              "    <tr>\n",
              "      <th>Promo2SinceYear</th>\n",
              "      <td>0.0</td>\n",
              "      <td>2010.0</td>\n",
              "      <td>2011.0</td>\n",
              "      <td>0.0</td>\n",
              "      <td>0.0</td>\n",
              "    </tr>\n",
              "    <tr>\n",
              "      <th>PromoInterval</th>\n",
              "      <td>0</td>\n",
              "      <td>Jan,Apr,Jul,Oct</td>\n",
              "      <td>Jan,Apr,Jul,Oct</td>\n",
              "      <td>0</td>\n",
              "      <td>0</td>\n",
              "    </tr>\n",
              "    <tr>\n",
              "      <th>Year</th>\n",
              "      <td>2015</td>\n",
              "      <td>2015</td>\n",
              "      <td>2015</td>\n",
              "      <td>2015</td>\n",
              "      <td>2015</td>\n",
              "    </tr>\n",
              "    <tr>\n",
              "      <th>month</th>\n",
              "      <td>7</td>\n",
              "      <td>7</td>\n",
              "      <td>7</td>\n",
              "      <td>7</td>\n",
              "      <td>7</td>\n",
              "    </tr>\n",
              "    <tr>\n",
              "      <th>dayofyear</th>\n",
              "      <td>212</td>\n",
              "      <td>212</td>\n",
              "      <td>212</td>\n",
              "      <td>212</td>\n",
              "      <td>212</td>\n",
              "    </tr>\n",
              "    <tr>\n",
              "      <th>weekofyear</th>\n",
              "      <td>31</td>\n",
              "      <td>31</td>\n",
              "      <td>31</td>\n",
              "      <td>31</td>\n",
              "      <td>31</td>\n",
              "    </tr>\n",
              "  </tbody>\n",
              "</table>\n",
              "</div>\n",
              "      <button class=\"colab-df-convert\" onclick=\"convertToInteractive('df-157ca783-4dc3-4134-969b-52856631c290')\"\n",
              "              title=\"Convert this dataframe to an interactive table.\"\n",
              "              style=\"display:none;\">\n",
              "        \n",
              "  <svg xmlns=\"http://www.w3.org/2000/svg\" height=\"24px\"viewBox=\"0 0 24 24\"\n",
              "       width=\"24px\">\n",
              "    <path d=\"M0 0h24v24H0V0z\" fill=\"none\"/>\n",
              "    <path d=\"M18.56 5.44l.94 2.06.94-2.06 2.06-.94-2.06-.94-.94-2.06-.94 2.06-2.06.94zm-11 1L8.5 8.5l.94-2.06 2.06-.94-2.06-.94L8.5 2.5l-.94 2.06-2.06.94zm10 10l.94 2.06.94-2.06 2.06-.94-2.06-.94-.94-2.06-.94 2.06-2.06.94z\"/><path d=\"M17.41 7.96l-1.37-1.37c-.4-.4-.92-.59-1.43-.59-.52 0-1.04.2-1.43.59L10.3 9.45l-7.72 7.72c-.78.78-.78 2.05 0 2.83L4 21.41c.39.39.9.59 1.41.59.51 0 1.02-.2 1.41-.59l7.78-7.78 2.81-2.81c.8-.78.8-2.07 0-2.86zM5.41 20L4 18.59l7.72-7.72 1.47 1.35L5.41 20z\"/>\n",
              "  </svg>\n",
              "      </button>\n",
              "      \n",
              "  <style>\n",
              "    .colab-df-container {\n",
              "      display:flex;\n",
              "      flex-wrap:wrap;\n",
              "      gap: 12px;\n",
              "    }\n",
              "\n",
              "    .colab-df-convert {\n",
              "      background-color: #E8F0FE;\n",
              "      border: none;\n",
              "      border-radius: 50%;\n",
              "      cursor: pointer;\n",
              "      display: none;\n",
              "      fill: #1967D2;\n",
              "      height: 32px;\n",
              "      padding: 0 0 0 0;\n",
              "      width: 32px;\n",
              "    }\n",
              "\n",
              "    .colab-df-convert:hover {\n",
              "      background-color: #E2EBFA;\n",
              "      box-shadow: 0px 1px 2px rgba(60, 64, 67, 0.3), 0px 1px 3px 1px rgba(60, 64, 67, 0.15);\n",
              "      fill: #174EA6;\n",
              "    }\n",
              "\n",
              "    [theme=dark] .colab-df-convert {\n",
              "      background-color: #3B4455;\n",
              "      fill: #D2E3FC;\n",
              "    }\n",
              "\n",
              "    [theme=dark] .colab-df-convert:hover {\n",
              "      background-color: #434B5C;\n",
              "      box-shadow: 0px 1px 3px 1px rgba(0, 0, 0, 0.15);\n",
              "      filter: drop-shadow(0px 1px 2px rgba(0, 0, 0, 0.3));\n",
              "      fill: #FFFFFF;\n",
              "    }\n",
              "  </style>\n",
              "\n",
              "      <script>\n",
              "        const buttonEl =\n",
              "          document.querySelector('#df-157ca783-4dc3-4134-969b-52856631c290 button.colab-df-convert');\n",
              "        buttonEl.style.display =\n",
              "          google.colab.kernel.accessAllowed ? 'block' : 'none';\n",
              "\n",
              "        async function convertToInteractive(key) {\n",
              "          const element = document.querySelector('#df-157ca783-4dc3-4134-969b-52856631c290');\n",
              "          const dataTable =\n",
              "            await google.colab.kernel.invokeFunction('convertToInteractive',\n",
              "                                                     [key], {});\n",
              "          if (!dataTable) return;\n",
              "\n",
              "          const docLinkHtml = 'Like what you see? Visit the ' +\n",
              "            '<a target=\"_blank\" href=https://colab.research.google.com/notebooks/data_table.ipynb>data table notebook</a>'\n",
              "            + ' to learn more about interactive tables.';\n",
              "          element.innerHTML = '';\n",
              "          dataTable['output_type'] = 'display_data';\n",
              "          await google.colab.output.renderOutput(dataTable, element);\n",
              "          const docLink = document.createElement('div');\n",
              "          docLink.innerHTML = docLinkHtml;\n",
              "          element.appendChild(docLink);\n",
              "        }\n",
              "      </script>\n",
              "    </div>\n",
              "  </div>\n",
              "  "
            ]
          },
          "metadata": {},
          "execution_count": 73
        }
      ]
    },
    {
      "cell_type": "code",
      "source": [
        "for i in categorical_features:\n",
        "  a = round(df[\"Sales\"].groupby(df[i]).sum()/df[\"Sales\"].sum() * 100, 2)\n",
        "  b = pd.DataFrame(a)\n",
        "  b.plot.bar()\n",
        "plt.show()"
      ],
      "metadata": {
        "colab": {
          "base_uri": "https://localhost:8080/",
          "height": 1000
        },
        "id": "0OpRP-2JpCqW",
        "outputId": "2d84dd13-a748-4047-80d1-d5a2a03247cc"
      },
      "execution_count": 93,
      "outputs": [
        {
          "output_type": "display_data",
          "data": {
            "text/plain": [
              "<Figure size 432x288 with 1 Axes>"
            ],
            "image/png": "[encoded data removed]"
          },
          "metadata": {
            "needs_background": "light"
          }
        },
        {
          "output_type": "display_data",
          "data": {
            "text/plain": [
              "<Figure size 432x288 with 1 Axes>"
            ],
            "image/png": "[encoded data removed]"
          },
          "metadata": {
            "needs_background": "light"
          }
        },
        {
          "output_type": "display_data",
          "data": {
            "text/plain": [
              "<Figure size 432x288 with 1 Axes>"
            ],
            "image/png": "[encoded data removed]"
          },
          "metadata": {
            "needs_background": "light"
          }
        },
        {
          "output_type": "display_data",
          "data": {
            "text/plain": [
              "<Figure size 432x288 with 1 Axes>"
            ],
            "image/png": "[encoded data removed]"
          },
          "metadata": {
            "needs_background": "light"
          }
        },
        {
          "output_type": "display_data",
          "data": {
            "text/plain": [
              "<Figure size 432x288 with 1 Axes>"
            ],
            "image/png": "[encoded data removed]"
          },
          "metadata": {
            "needs_background": "light"
          }
        },
        {
          "output_type": "display_data",
          "data": {
            "text/plain": [
              "<Figure size 432x288 with 1 Axes>"
            ],
            "image/png": "[encoded data removed]"
          },
          "metadata": {
            "needs_background": "light"
          }
        },
        {
          "output_type": "display_data",
          "data": {
            "text/plain": [
              "<Figure size 432x288 with 1 Axes>"
            ],
            "image/png": "[encoded data removed]"
          },
          "metadata": {
            "needs_background": "light"
          }
        },
        {
          "output_type": "display_data",
          "data": {
            "text/plain": [
              "<Figure size 432x288 with 1 Axes>"
            ],
            "image/png": "[encoded data removed]"
          },
          "metadata": {
            "needs_background": "light"
          }
        },
        {
          "output_type": "display_data",
          "data": {
            "text/plain": [
              "<Figure size 432x288 with 1 Axes>"
            ],
            "image/png": "[encoded data removed]"
          },
          "metadata": {
            "needs_background": "light"
          }
        },
        {
          "output_type": "display_data",
          "data": {
            "text/plain": [
              "<Figure size 432x288 with 1 Axes>"
            ],
            "image/png": "[encoded data removed]"
          },
          "metadata": {
            "needs_background": "light"
          }
        },
        {
          "output_type": "display_data",
          "data": {
            "text/plain": [
              "<Figure size 432x288 with 1 Axes>"
            ],
            "image/png": "[encoded data removed]"
          },
          "metadata": {
            "needs_background": "light"
          }
        },
        {
          "output_type": "display_data",
          "data": {
            "text/plain": [
              "<Figure size 432x288 with 1 Axes>"
            ],
            "image/png": "[encoded data removed]"
          },
          "metadata": {
            "needs_background": "light"
          }
        },
        {
          "output_type": "display_data",
          "data": {
            "text/plain": [
              "<Figure size 432x288 with 1 Axes>"
            ],
            "image/png": "[encoded data removed]"
          },
          "metadata": {
            "needs_background": "light"
          }
        }
      ]
    },
    {
      "cell_type": "markdown",
      "source": [
        "![image.png](data:image/png;base64,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)"
      ],
      "metadata": {
        "id": "Gv_RubGfq-mi"
      }
    },
    {
      "cell_type": "code",
      "source": [],
      "metadata": {
        "id": "f-35TG0MqhuN"
      },
      "execution_count": null,
      "outputs": []
    }
  ]
}